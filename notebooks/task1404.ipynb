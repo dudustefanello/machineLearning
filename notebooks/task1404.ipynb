{
 "cells": [
  {
   "cell_type": "markdown",
   "metadata": {
    "collapsed": true,
    "pycharm": {
     "name": "#%% md\n"
    }
   },
   "source": [
    "Here is the exercise for the next class (Wednesday):\n",
    "- Go to http://archive.ics.uci.edu/ml/datasets/Adult and download the dataset adult.data (also read and understand the schema)\n",
    "- Load the file into the memory using Pandas (I suggest that you  use Google Colab)\n",
    "- Encode all the non numeric data to discrete values. For example, the attribute workclass stores the following distinct values: Private, Self-emp-not-inc, Self-emp-inc, Federal-gov, Local-gov, State-gov, Without-pay, Never-worked; you have to transformed them into 0,1,2, and so on.\n",
    "- That's all\n"
   ]
  }
 ],
 "metadata": {
  "kernelspec": {
   "display_name": "Python 3",
   "language": "python",
   "name": "python3"
  },
  "language_info": {
   "codemirror_mode": {
    "name": "ipython",
    "version": 2
   },
   "file_extension": ".py",
   "mimetype": "text/x-python",
   "name": "python",
   "nbconvert_exporter": "python",
   "pygments_lexer": "ipython2",
   "version": "2.7.6"
  }
 },
 "nbformat": 4,
 "nbformat_minor": 0
}